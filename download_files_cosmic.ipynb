{
 "cells": [
  {
   "cell_type": "code",
   "execution_count": 1,
   "metadata": {},
   "outputs": [],
   "source": [
    "import numpy as np \n",
    "import matplotlib.pyplot as plt\n",
    "import requests \n",
    "from bs4 import BeautifulSoup \n",
    "\n"
   ]
  },
  {
   "cell_type": "code",
   "execution_count": 11,
   "metadata": {},
   "outputs": [
    {
     "name": "stdout",
     "output_type": "stream",
     "text": [
      "Downloading scnLv1_repro2013_2007_004.tar.gz\n"
     ]
    }
   ],
   "source": [
    "#url_ion = \"https://tacc.cwb.gov.tw/data-service/fs7rt_trops/level2/ionPrf/2020.323/\"\n",
    "#url = \"https://tacc.cwb.gov.tw/data-service/fs7rt_trops/level2/igaPrf/2020.322/\"\n",
    "url = \"https://data.cosmic.ucar.edu/gnss-ro/cosmic1/repro2013/level1b/2007/004/\"\n",
    "\n",
    "#scintillaiton\n",
    "datatype = \"scnLv1\" \n",
    "\n",
    "r = requests.get(url)\n",
    "s = BeautifulSoup(r.text, \"html.parser\")\n",
    "\n",
    "for link in s.find_all('a', href=True):\n",
    "    href = link['href']\n",
    "    if datatype in href:\n",
    "        print(f\"Downloading {href}\")\n",
    "        remote_file = requests.get(url + href)\n",
    "        with open(href, 'wb') as f:\n",
    "            for chunk in remote_file.iter_content(chunk_size=1024): \n",
    "                if chunk: \n",
    "                    f.write(chunk)    "
   ]
  },
  {
   "cell_type": "code",
   "execution_count": 10,
   "metadata": {},
   "outputs": [
    {
     "name": "stdout",
     "output_type": "stream",
     "text": [
      "Number of videos in playlist: 0\n"
     ]
    },
    {
     "data": {
      "text/plain": [
       "[]"
      ]
     },
     "execution_count": 10,
     "metadata": {},
     "output_type": "execute_result"
    }
   ],
   "source": [
    "from pytube import Playlist\n",
    "\n",
    "url = 'https://www.youtube.com/watch?v=bGdAvJPZcgg&list=RDEMNG3WyBKq1ADL-sBO0wygwg'\n",
    "playlist = Playlist(url)\n",
    "print('Number of videos in playlist: %s' % len(playlist.video_urls))\n",
    "#playlist.download_all()\n",
    "\n",
    "playlist"
   ]
  },
  {
   "cell_type": "code",
   "execution_count": 1,
   "metadata": {},
   "outputs": [
    {
     "ename": "NameError",
     "evalue": "name 'Page' is not defined",
     "output_type": "error",
     "traceback": [
      "\u001b[1;31m---------------------------------------------------------------------------\u001b[0m",
      "\u001b[1;31mNameError\u001b[0m                                 Traceback (most recent call last)",
      "\u001b[1;32m<ipython-input-1-b94b489b2b3d>\u001b[0m in \u001b[0;36m<module>\u001b[1;34m\u001b[0m\n\u001b[0;32m     26\u001b[0m \u001b[1;31m# Scraping and extracting the video\u001b[0m\u001b[1;33m\u001b[0m\u001b[1;33m\u001b[0m\u001b[1;33m\u001b[0m\u001b[0m\n\u001b[0;32m     27\u001b[0m \u001b[1;31m# links from the given playlist url\u001b[0m\u001b[1;33m\u001b[0m\u001b[1;33m\u001b[0m\u001b[1;33m\u001b[0m\u001b[0m\n\u001b[1;32m---> 28\u001b[1;33m \u001b[0mpage\u001b[0m \u001b[1;33m=\u001b[0m \u001b[0mPage\u001b[0m\u001b[1;33m(\u001b[0m\u001b[0murl\u001b[0m\u001b[1;33m)\u001b[0m\u001b[1;33m\u001b[0m\u001b[1;33m\u001b[0m\u001b[0m\n\u001b[0m\u001b[0;32m     29\u001b[0m \u001b[0mcount\u001b[0m \u001b[1;33m=\u001b[0m \u001b[1;36m0\u001b[0m\u001b[1;33m\u001b[0m\u001b[1;33m\u001b[0m\u001b[0m\n\u001b[0;32m     30\u001b[0m \u001b[1;33m\u001b[0m\u001b[0m\n",
      "\u001b[1;31mNameError\u001b[0m: name 'Page' is not defined"
     ]
    }
   ],
   "source": [
    "\n",
    "import bs4 as bs\n",
    "import sys\n",
    "import urllib.request\n",
    "from PyQt5.QtWebEngineWidgets import QWebEnginePage\n",
    "from PyQt5.QtWidgets import QApplication\n",
    "from PyQt5.QtCore import QUrl\n",
    "import pytube  # library for downloading youtube videos\n",
    "\n",
    "\n",
    "links = []\n",
    "\n",
    "def exact_link(link):\n",
    "    vid_id = link.split('=')\n",
    "    # print(vid_id)\n",
    "    str = \"\"\n",
    "    for i in vid_id[0:2]:\n",
    "        str += i + \"=\"\n",
    " \n",
    "    str_new = str[0:len(str) - 1]\n",
    "    index = str_new.find(\"&\")\n",
    " \n",
    "    new_link = \"https://www.youtube.com\" + str_new[0:index]\n",
    "    \n",
    "    return new_link\n",
    "url = \"https://www.youtube.com/watch?v=bGdAvJPZcgg&list=RDEMNG3WyBKq1ADL-sBO0wygwg\"\n",
    "# Scraping and extracting the video\n",
    "# links from the given playlist url\n",
    "page = Page(url)\n",
    "count = 0\n",
    " \n",
    "soup = bs.BeautifulSoup(page.html, 'html.parser')\n",
    "for link in soup.find_all('a', id='thumbnail'):\n",
    " \n",
    "    # not using first link because it is\n",
    "    # playlist link not particular video link\n",
    "    if count == 0:\n",
    "        count += 1\n",
    "        continue\n",
    "    else:\n",
    "        try:\n",
    "              # Prevents error for links with no href.\n",
    "            vid_src = link['href']\n",
    "            # print(vid_src)\n",
    "            # keeping the format of link to be\n",
    "            # given to pytube otherwise in some cases\n",
    "            new_link = exact_link(vid_src)\n",
    " \n",
    "            # error might occur due to this\n",
    "            # print(new_link)\n",
    " \n",
    "            # appending the link to the links array\n",
    "            links.append(new_link)\n",
    "        except Exception as exp:\n",
    "            pass # No function necessary for invalid <a> tags.\n",
    "        \n",
    "        \n",
    "# downloading each video from\n",
    "# The link in the links array\n",
    "for link in links:\n",
    "    yt = pytube.YouTube(link)\n",
    " \n",
    "    # Downloaded video will be the best quality video\n",
    "    stream = yt.streams.streams.filter(only_audio=True).first()\n",
    "    #filter(progressive=True, file_extension='mp3').order_by('resolution').desc().first()\n",
    "    \n",
    "    try:\n",
    "        stream.download()\n",
    "        # printing the links downloaded\n",
    "        print(\"Downloaded: \", link)\n",
    "    except:\n",
    "        print('Some error in downloading: ', link)"
   ]
  },
  {
   "cell_type": "code",
   "execution_count": null,
   "metadata": {},
   "outputs": [],
   "source": [
    "class Page(QWebEnginePage):\n",
    "    \n",
    "    def __init__(self, url):\n",
    "        self.app = QApplication(sys.argv)\n",
    "        QWebEnginePage.__init__(self)\n",
    "        self.html = ''\n",
    "        self.loadFinished.connect(self._on_load_finished)\n",
    "        self.load(QUrl(url))\n",
    "        self.app.exec_()\n",
    " \n",
    "    def _on_load_finished(self):\n",
    "        self.html = self.toHtml(self.Callable)\n",
    "        print('Load finished')\n",
    " \n",
    "    def Callable(self, html_str):\n",
    "        self.html = html_str\n",
    "        self.app.quit()"
   ]
  }
 ],
 "metadata": {
  "kernelspec": {
   "display_name": "Python 3",
   "language": "python",
   "name": "python3"
  },
  "language_info": {
   "codemirror_mode": {
    "name": "ipython",
    "version": 3
   },
   "file_extension": ".py",
   "mimetype": "text/x-python",
   "name": "python",
   "nbconvert_exporter": "python",
   "pygments_lexer": "ipython3",
   "version": "3.8.8"
  }
 },
 "nbformat": 4,
 "nbformat_minor": 4
}
